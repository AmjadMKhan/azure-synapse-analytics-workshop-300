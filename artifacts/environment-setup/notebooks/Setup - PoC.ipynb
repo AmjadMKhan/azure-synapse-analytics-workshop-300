{
  "metadata": {
    "saveOutput": true,
    "language_info": {
      "name": "python"
    }
  },
  "nbformat": 4,
  "nbformat_minor": 2,
  "cells": [
    {
      "cell_type": "code",
      "execution_count": 18,
      "outputs": [
        {
          "output_type": "execute_result",
          "execution_count": 18,
          "data": {
            "text/plain": "/home/trusted-service-user/cluster-env/env/lib/python3.6/site-packages/pyarrow/__init__.py:152: UserWarning: pyarrow.open_stream is deprecated, please use pyarrow.ipc.open_stream\n  warnings.warn(\"pyarrow.open_stream is deprecated, please use \""
          },
          "metadata": {}
        }
      ],
      "metadata": {},
      "source": [
        "%%pyspark\n",
        "data_path = spark.read.load('abfss://wwi-02@asadatalake176496.dfs.core.windows.net/sale-small/Year=2014/Quarter=Q2/Month=5/Day=20140501/sale-small-20140501-snappy.parquet', format='parquet')\n",
        "sale_df = data_path.toPandas()"
      ],
      "attachments": {}
    },
    {
      "cell_type": "code",
      "execution_count": 25,
      "outputs": [],
      "metadata": {},
      "source": [
        "from decimal import *\n",
        "\n",
        "sale_df['TotalAmount'] = sale_df['TotalAmount'] * Decimal(1.1)\n",
        "sale_df['ProfitAmount'] = sale_df['ProfitAmount'] * Decimal(1.1)"
      ],
      "attachments": {}
    },
    {
      "cell_type": "code",
      "execution_count": 26,
      "outputs": [
        {
          "output_type": "execute_result",
          "execution_count": 26,
          "data": {
            "text/plain": "<azure.storage.blob.models.ResourceProperties object at 0x7fdc32564fd0>"
          },
          "metadata": {}
        }
      ],
      "metadata": {},
      "source": [
        "from azure.storage.blob import BlockBlobService\n",
        "\n",
        "block_blob_service = BlockBlobService(\n",
        "    account_name='asadatalake176496', account_key='1XM/nC/u7/JAC+FRHhFoyNeo1n3ipBY86quFoY9D3ITmPRoDFx8EMdjWwdCmN6Yg3RCsm7AFESDiaszF9VTxPw==') \n",
        "\n",
        "block_blob_service.create_blob_from_text('wwi-02', 'sale-poc/sale-20140501.csv', sale_df.to_csv(quotechar='\\'', index=False, header=True, escapechar='\\\\', doublequote=False))"
      ],
      "attachments": {}
    },
    {
      "cell_type": "code",
      "execution_count": 31,
      "outputs": [
        {
          "output_type": "execute_result",
          "execution_count": 31,
          "data": {
            "text/plain": "<azure.storage.blob.models.ResourceProperties object at 0x7fdbfff0b860>"
          },
          "metadata": {}
        }
      ],
      "metadata": {},
      "source": [
        "data_path = spark.read.load('abfss://wwi-02@asadatalake176496.dfs.core.windows.net/sale-small/Year=2014/Quarter=Q2/Month=5/Day=20140502/sale-small-20140502-snappy.parquet', format='parquet')\n",
        "sale_df = data_path.toPandas()\n",
        "\n",
        "from decimal import *\n",
        "\n",
        "sale_df['TotalAmount'] = sale_df['TotalAmount'] * Decimal(1.1)\n",
        "sale_df['ProfitAmount'] = sale_df['ProfitAmount'] * Decimal(1.1)\n",
        "\n",
        "block_blob_service.create_blob_from_text('wwi-02', 'sale-poc/sale-20140502.csv', sale_df.to_csv(quotechar='\\'', index=False, header=False, escapechar='\\\\', doublequote=False, line_terminator=','))"
      ],
      "attachments": {}
    },
    {
      "cell_type": "code",
      "execution_count": 17,
      "outputs": [
        {
          "output_type": "execute_result",
          "execution_count": 17,
          "data": {
            "text/plain": "abfss://wwi-02@asadatalake176496.dfs.core.windows.net/sale-small/Year=2014/Quarter=Q2/Month=5/Day=20140501/sale-small-20140501-snappy.parquet\n<azure.storage.blob.models.ResourceProperties object at 0x7fdbffee59e8>\nabfss://wwi-02@asadatalake176496.dfs.core.windows.net/sale-small/Year=2014/Quarter=Q2/Month=5/Day=20140502/sale-small-20140502-snappy.parquet\n<azure.storage.blob.models.ResourceProperties object at 0x7fdbeb8dd470>\nabfss://wwi-02@asadatalake176496.dfs.core.windows.net/sale-small/Year=2014/Quarter=Q2/Month=5/Day=20140503/sale-small-20140503-snappy.parquet\n<azure.storage.blob.models.ResourceProperties object at 0x7fdbeb9180f0>\nabfss://wwi-02@asadatalake176496.dfs.core.windows.net/sale-small/Year=2014/Quarter=Q2/Month=5/Day=20140504/sale-small-20140504-snappy.parquet\n<azure.storage.blob.models.ResourceProperties object at 0x7fdbffee57b8>\nabfss://wwi-02@asadatalake176496.dfs.core.windows.net/sale-small/Year=2014/Quarter=Q2/Month=5/Day=20140505/sale-small-20140505-snappy.parquet\n<azure.storage.blob.models.ResourceProperties object at 0x7fdbffee5278>\nabfss://wwi-02@asadatalake176496.dfs.core.windows.net/sale-small/Year=2014/Quarter=Q2/Month=5/Day=20140506/sale-small-20140506-snappy.parquet\n<azure.storage.blob.models.ResourceProperties object at 0x7fdbeb918748>\nabfss://wwi-02@asadatalake176496.dfs.core.windows.net/sale-small/Year=2014/Quarter=Q2/Month=5/Day=20140507/sale-small-20140507-snappy.parquet\n<azure.storage.blob.models.ResourceProperties object at 0x7fdbeb918b00>\nabfss://wwi-02@asadatalake176496.dfs.core.windows.net/sale-small/Year=2014/Quarter=Q2/Month=5/Day=20140508/sale-small-20140508-snappy.parquet\n<azure.storage.blob.models.ResourceProperties object at 0x7fdbeb918e10>\nabfss://wwi-02@asadatalake176496.dfs.core.windows.net/sale-small/Year=2014/Quarter=Q2/Month=5/Day=20140509/sale-small-20140509-snappy.parquet\n<azure.storage.blob.models.ResourceProperties object at 0x7fdc32564ef0>\nabfss://wwi-02@asadatalake176496.dfs.core.windows.net/sale-small/Year=2014/Quarter=Q2/Month=5/Day=20140510/sale-small-20140510-snappy.parquet\n<azure.storage.blob.models.ResourceProperties object at 0x7fdc32564208>\nabfss://wwi-02@asadatalake176496.dfs.core.windows.net/sale-small/Year=2014/Quarter=Q2/Month=5/Day=20140511/sale-small-20140511-snappy.parquet\n<azure.storage.blob.models.ResourceProperties object at 0x7fdbeb901f28>\nabfss://wwi-02@asadatalake176496.dfs.core.windows.net/sale-small/Year=2014/Quarter=Q2/Month=5/Day=20140512/sale-small-20140512-snappy.parquet\n<azure.storage.blob.models.ResourceProperties object at 0x7fdbffee5a90>\nabfss://wwi-02@asadatalake176496.dfs.core.windows.net/sale-small/Year=2014/Quarter=Q2/Month=5/Day=20140513/sale-small-20140513-snappy.parquet\n<azure.storage.blob.models.ResourceProperties object at 0x7fdbeb901438>\nabfss://wwi-02@asadatalake176496.dfs.core.windows.net/sale-small/Year=2014/Quarter=Q2/Month=5/Day=20140514/sale-small-20140514-snappy.parquet\n<azure.storage.blob.models.ResourceProperties object at 0x7fdbffee5978>\nabfss://wwi-02@asadatalake176496.dfs.core.windows.net/sale-small/Year=2014/Quarter=Q2/Month=5/Day=20140515/sale-small-20140515-snappy.parquet\n<azure.storage.blob.models.ResourceProperties object at 0x7fdbffee5908>\nabfss://wwi-02@asadatalake176496.dfs.core.windows.net/sale-small/Year=2014/Quarter=Q2/Month=5/Day=20140516/sale-small-20140516-snappy.parquet\n<azure.storage.blob.models.ResourceProperties object at 0x7fdbffee5828>\nabfss://wwi-02@asadatalake176496.dfs.core.windows.net/sale-small/Year=2014/Quarter=Q2/Month=5/Day=20140517/sale-small-20140517-snappy.parquet\n<azure.storage.blob.models.ResourceProperties object at 0x7fdbeb901f60>\nabfss://wwi-02@asadatalake176496.dfs.core.windows.net/sale-small/Year=2014/Quarter=Q2/Month=5/Day=20140518/sale-small-20140518-snappy.parquet\n<azure.storage.blob.models.ResourceProperties object at 0x7fdbeb918eb8>\nabfss://wwi-02@asadatalake176496.dfs.core.windows.net/sale-small/Year=2014/Quarter=Q2/Month=5/Day=20140519/sale-small-20140519-snappy.parquet\n<azure.storage.blob.models.ResourceProperties object at 0x7fdbeb918208>\nabfss://wwi-02@asadatalake176496.dfs.core.windows.net/sale-small/Year=2014/Quarter=Q2/Month=5/Day=20140520/sale-small-20140520-snappy.parquet\n<azure.storage.blob.models.ResourceProperties object at 0x7fdbeb918240>\nabfss://wwi-02@asadatalake176496.dfs.core.windows.net/sale-small/Year=2014/Quarter=Q2/Month=5/Day=20140521/sale-small-20140521-snappy.parquet\n<azure.storage.blob.models.ResourceProperties object at 0x7fdbeb918128>\nabfss://wwi-02@asadatalake176496.dfs.core.windows.net/sale-small/Year=2014/Quarter=Q2/Month=5/Day=20140522/sale-small-20140522-snappy.parquet\n<azure.storage.blob.models.ResourceProperties object at 0x7fdbeb918860>\nabfss://wwi-02@asadatalake176496.dfs.core.windows.net/sale-small/Year=2014/Quarter=Q2/Month=5/Day=20140523/sale-small-20140523-snappy.parquet\n<azure.storage.blob.models.ResourceProperties object at 0x7fdbeb9180b8>\nabfss://wwi-02@asadatalake176496.dfs.core.windows.net/sale-small/Year=2014/Quarter=Q2/Month=5/Day=20140524/sale-small-20140524-snappy.parquet\n<azure.storage.blob.models.ResourceProperties object at 0x7fdc32564390>\nabfss://wwi-02@asadatalake176496.dfs.core.windows.net/sale-small/Year=2014/Quarter=Q2/Month=5/Day=20140525/sale-small-20140525-snappy.parquet\n<azure.storage.blob.models.ResourceProperties object at 0x7fdbeb901ac8>\nabfss://wwi-02@asadatalake176496.dfs.core.windows.net/sale-small/Year=2014/Quarter=Q2/Month=5/Day=20140526/sale-small-20140526-snappy.parquet\n<azure.storage.blob.models.ResourceProperties object at 0x7fdc32564198>\nabfss://wwi-02@asadatalake176496.dfs.core.windows.net/sale-small/Year=2014/Quarter=Q2/Month=5/Day=20140527/sale-small-20140527-snappy.parquet\n<azure.storage.blob.models.ResourceProperties object at 0x7fdc32564710>\nabfss://wwi-02@asadatalake176496.dfs.core.windows.net/sale-small/Year=2014/Quarter=Q2/Month=5/Day=20140528/sale-small-20140528-snappy.parquet\n<azure.storage.blob.models.ResourceProperties object at 0x7fdc32564da0>\nabfss://wwi-02@asadatalake176496.dfs.core.windows.net/sale-small/Year=2014/Quarter=Q2/Month=5/Day=20140529/sale-small-20140529-snappy.parquet\n<azure.storage.blob.models.ResourceProperties object at 0x7fdc32564b70>\nabfss://wwi-02@asadatalake176496.dfs.core.windows.net/sale-small/Year=2014/Quarter=Q2/Month=5/Day=20140530/sale-small-20140530-snappy.parquet\n<azure.storage.blob.models.ResourceProperties object at 0x7fdbfff0b2e8>\nabfss://wwi-02@asadatalake176496.dfs.core.windows.net/sale-small/Year=2014/Quarter=Q2/Month=5/Day=20140531/sale-small-20140531-snappy.parquet\n<azure.storage.blob.models.ResourceProperties object at 0x7fdbeb918898>"
          },
          "metadata": {}
        }
      ],
      "metadata": {},
      "source": [
        "import numpy as np\n",
        "\n",
        "for i in np.arange(1, 32):\n",
        "\n",
        "    print(f'abfss://wwi-02@asadatalake176496.dfs.core.windows.net/sale-small/Year=2014/Quarter=Q2/Month=5/Day=201405{i:02}/sale-small-201405{i:02}-snappy.parquet')\n",
        "\n",
        "    data_path = spark.read.load('abfss://wwi-02@asadatalake176496.dfs.core.windows.net/sale-small/Year=2014/Quarter=Q2/Month=5/Day=20140501/sale-small-20140501-snappy.parquet', format='parquet')\n",
        "    block_blob_service.create_blob_from_text('wwi-02', f'sale-poc/sale-201405{i:02}.csv', sale_df.to_csv(quotechar='\\'', index=False, header=True, escapechar='\\\\', doublequote=False))"
      ],
      "attachments": {}
    }
  ]
}